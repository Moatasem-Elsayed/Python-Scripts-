{
 "metadata": {
  "language_info": {
   "codemirror_mode": {
    "name": "ipython",
    "version": 3
   },
   "file_extension": ".py",
   "mimetype": "text/x-python",
   "name": "python",
   "nbconvert_exporter": "python",
   "pygments_lexer": "ipython3",
   "version": "3.6.4-final"
  },
  "orig_nbformat": 2,
  "kernelspec": {
   "name": "python_defaultSpec_1599193135594",
   "display_name": "Python 3.6.4 64-bit ('py36': conda)"
  }
 },
 "nbformat": 4,
 "nbformat_minor": 2,
 "cells": [
  {
   "cell_type": "code",
   "execution_count": null,
   "metadata": {},
   "outputs": [],
   "source": [
    "import face_recognition\n",
    "known_image = face_recognition.load_image_file(\"biden.jpg\")\n",
    "unknown_image = face_recognition.load_image_file(\"unknown.jpg\")\n",
    "\n",
    "biden_encoding = face_recognition.face_encodings(known_image)[0]\n",
    "unknown_encoding = face_recognition.face_encodings(unknown_image)[0]\n",
    "\n",
    "results = face_recognition.compare_faces([biden_encoding], unknown_encoding)\n"
   ]
  },
  {
   "cell_type": "code",
   "execution_count": 11,
   "metadata": {},
   "outputs": [],
   "source": [
    "import face_recognition"
   ]
  },
  {
   "cell_type": "code",
   "execution_count": 12,
   "metadata": {},
   "outputs": [],
   "source": [
    "import glob\n",
    "elon_images = glob.glob('registered/elon/*.jpg')"
   ]
  },
  {
   "cell_type": "code",
   "execution_count": 13,
   "metadata": {},
   "outputs": [
    {
     "output_type": "execute_result",
     "data": {
      "text/plain": "['registered/elon\\\\1.jpg',\n 'registered/elon\\\\2.jpg',\n 'registered/elon\\\\3.jpg',\n 'registered/elon\\\\4.jpg',\n 'registered/elon\\\\5.jpg',\n 'registered/elon\\\\8.jpg']"
     },
     "metadata": {},
     "execution_count": 13
    }
   ],
   "source": [
    "elon_images"
   ]
  },
  {
   "cell_type": "code",
   "execution_count": 14,
   "metadata": {},
   "outputs": [],
   "source": [
    "imgs = [face_recognition.load_image_file(path) for path in elon_images]"
   ]
  },
  {
   "cell_type": "code",
   "execution_count": 17,
   "metadata": {},
   "outputs": [],
   "source": [
    "elon_encoding = [face_recognition.face_encodings(img)[0] for img in imgs]"
   ]
  },
  {
   "cell_type": "code",
   "execution_count": 22,
   "metadata": {},
   "outputs": [],
   "source": [
    "unknown_img_path = 'unknown/6.jpg'\n",
    "unknown_img = face_recognition.load_image_file(unknown_img_path)\n",
    "unknown_encodings = face_recognition.face_encodings(unknown_img)\n",
    "#for unknown_encoding in unknown_encodings:\n",
    "unknown_encoding = unknown_encodings[0]\n",
    "result = face_recognition.compare_faces(elon_encoding, unknown_encoding)"
   ]
  },
  {
   "cell_type": "code",
   "execution_count": 23,
   "metadata": {},
   "outputs": [
    {
     "output_type": "execute_result",
     "data": {
      "text/plain": "[True, True, True, True, False, True]"
     },
     "metadata": {},
     "execution_count": 23
    }
   ],
   "source": [
    "result"
   ]
  },
  {
   "cell_type": "code",
   "execution_count": null,
   "metadata": {},
   "outputs": [],
   "source": []
  }
 ]
}